{
 "cells": [
  {
   "cell_type": "code",
   "execution_count": 2,
   "metadata": {},
   "outputs": [],
   "source": [
    "import numpy as np\n",
    "import matplotlib.pyplot as plt\n",
    "from scipy.stats import norm"
   ]
  },
  {
   "cell_type": "code",
   "execution_count": 75,
   "metadata": {},
   "outputs": [],
   "source": [
    "def one_step_survival(r, sigma, S0, q, put_strike, barrier, dt, n_simulations, m_observations, notional):\n",
    "    p_table, l_table = np.zeros(n_simulations), np.ones(n_simulations)\n",
    "    s = S0*np.ones(n_simulations)\n",
    "    tj = dt\n",
    "    coupon = q*np.ones(n_simulations)\n",
    "    for _ in range(m_observations):\n",
    "        d = (np.log(barrier/s) - (r - sigma**2/2)*dt)/(sigma*np.sqrt(dt))\n",
    "        p = norm.cdf(d)\n",
    "        p_table += (1 - p)*l_table*np.exp(-r*tj)*notional*(1 + coupon)\n",
    "        l_table *= p\n",
    "        u = np.random.uniform(0, 1, size=(n_simulations,))\n",
    "        s *= np.exp((r - sigma**2/2)*dt + sigma*np.sqrt(dt)*norm.ppf(p*u))\n",
    "        tj += dt\n",
    "        coupon += q\n",
    "    payoff_at_expiry = notional - np.maximum(0, put_strike - s)\n",
    "    p_table += l_table*np.exp(-r*m_observations*dt)*payoff_at_expiry\n",
    "    return p_table      \n"
   ]
  },
  {
   "cell_type": "code",
   "execution_count": 76,
   "metadata": {},
   "outputs": [
    {
     "data": {
      "text/plain": [
       "104.82798443225147"
      ]
     },
     "execution_count": 76,
     "metadata": {},
     "output_type": "execute_result"
    }
   ],
   "source": [
    "one_step_survival(.03, .2, 100, .06, 70, 100, .25, 10**5, 4, 100).mean()"
   ]
  },
  {
   "cell_type": "code",
   "execution_count": 79,
   "metadata": {},
   "outputs": [],
   "source": [
    "vols = np.linspace(.05, .5, 50)\n",
    "prices = []\n",
    "for v in vols:\n",
    "    sim = one_step_survival(\n",
    "        r=.03, sigma=v, S0=100, q=.06, put_strike=70, barrier=100, dt=.25, n_simulations=10**5, m_observations=4, notional=100\n",
    "    )\n",
    "    prices.append(sim.mean())\n",
    "prices = np.array(prices)"
   ]
  },
  {
   "cell_type": "code",
   "execution_count": 80,
   "metadata": {},
   "outputs": [
    {
     "data": {
      "text/plain": [
       "[<matplotlib.lines.Line2D at 0x13fc28af0>]"
      ]
     },
     "execution_count": 80,
     "metadata": {},
     "output_type": "execute_result"
    },
    {
     "data": {
      "image/png": "[encoded data removed]",
      "text/plain": [
       "<Figure size 432x288 with 1 Axes>"
      ]
     },
     "metadata": {
      "needs_background": "light"
     },
     "output_type": "display_data"
    }
   ],
   "source": [
    "plt.plot(vols, prices)"
   ]
  },
  {
   "cell_type": "code",
   "execution_count": null,
   "metadata": {},
   "outputs": [],
   "source": []
  }
 ],
 "metadata": {
  "kernelspec": {
   "display_name": "datasophia",
   "language": "python",
   "name": "python3"
  },
  "language_info": {
   "codemirror_mode": {
    "name": "ipython",
    "version": 3
   },
   "file_extension": ".py",
   "mimetype": "text/x-python",
   "name": "python",
   "nbconvert_exporter": "python",
   "pygments_lexer": "ipython3",
   "version": "3.9.4"
  }
 },
 "nbformat": 4,
 "nbformat_minor": 2
}
